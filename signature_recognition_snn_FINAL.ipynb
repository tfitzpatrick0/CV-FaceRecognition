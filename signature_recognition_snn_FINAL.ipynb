{
  "nbformat": 4,
  "nbformat_minor": 0,
  "metadata": {
    "colab": {
      "provenance": [],
      "authorship_tag": "ABX9TyNlzb89KIheIUpKB2wiH+C4",
      "include_colab_link": true
    },
    "kernelspec": {
      "name": "python3",
      "display_name": "Python 3"
    },
    "language_info": {
      "name": "python"
    }
  },
  "cells": [
    {
      "cell_type": "markdown",
      "metadata": {
        "id": "view-in-github",
        "colab_type": "text"
      },
      "source": [
        "<a href=\"https://colab.research.google.com/github/tfitzpatrick0/CV-FaceRecognition/blob/main/signature_recognition_snn_FINAL.ipynb\" target=\"_parent\"><img src=\"https://colab.research.google.com/assets/colab-badge.svg\" alt=\"Open In Colab\"/></a>"
      ]
    },
    {
      "cell_type": "code",
      "execution_count": null,
      "metadata": {
        "id": "S918XKq9qBNS",
        "colab": {
          "base_uri": "https://localhost:8080/"
        },
        "outputId": "57525775-fe46-4449-ac04-24eea6fc8383"
      },
      "outputs": [
        {
          "output_type": "stream",
          "name": "stdout",
          "text": [
            "Looking in indexes: https://pypi.org/simple, https://us-python.pkg.dev/colab-wheels/public/simple/\n",
            "Requirement already satisfied: tensorflow in /usr/local/lib/python3.10/dist-packages (2.12.0)\n",
            "Requirement already satisfied: torch in /usr/local/lib/python3.10/dist-packages (2.0.0+cu118)\n",
            "Requirement already satisfied: numpy in /usr/local/lib/python3.10/dist-packages (1.22.4)\n",
            "Collecting gunicorn\n",
            "  Downloading gunicorn-20.1.0-py3-none-any.whl (79 kB)\n",
            "\u001b[2K     \u001b[90m━━━━━━━━━━━━━━━━━━━━━━━━━━━━━━━━━━━━━━━━\u001b[0m \u001b[32m79.5/79.5 kB\u001b[0m \u001b[31m2.5 MB/s\u001b[0m eta \u001b[36m0:00:00\u001b[0m\n",
            "\u001b[?25hRequirement already satisfied: scipy in /usr/local/lib/python3.10/dist-packages (1.10.1)\n",
            "Collecting sklearn\n",
            "  Downloading sklearn-0.0.post4.tar.gz (3.6 kB)\n",
            "  Preparing metadata (setup.py) ... \u001b[?25l\u001b[?25hdone\n",
            "Requirement already satisfied: pillow in /usr/local/lib/python3.10/dist-packages (8.4.0)\n",
            "Requirement already satisfied: matplotlib in /usr/local/lib/python3.10/dist-packages (3.7.1)\n",
            "Requirement already satisfied: flatbuffers>=2.0 in /usr/local/lib/python3.10/dist-packages (from tensorflow) (23.3.3)\n",
            "Requirement already satisfied: grpcio<2.0,>=1.24.3 in /usr/local/lib/python3.10/dist-packages (from tensorflow) (1.54.0)\n",
            "Requirement already satisfied: packaging in /usr/local/lib/python3.10/dist-packages (from tensorflow) (23.1)\n",
            "Requirement already satisfied: google-pasta>=0.1.1 in /usr/local/lib/python3.10/dist-packages (from tensorflow) (0.2.0)\n",
            "Requirement already satisfied: tensorboard<2.13,>=2.12 in /usr/local/lib/python3.10/dist-packages (from tensorflow) (2.12.2)\n",
            "Requirement already satisfied: jax>=0.3.15 in /usr/local/lib/python3.10/dist-packages (from tensorflow) (0.4.8)\n",
            "Requirement already satisfied: setuptools in /usr/local/lib/python3.10/dist-packages (from tensorflow) (67.7.2)\n",
            "Requirement already satisfied: keras<2.13,>=2.12.0 in /usr/local/lib/python3.10/dist-packages (from tensorflow) (2.12.0)\n",
            "Requirement already satisfied: astunparse>=1.6.0 in /usr/local/lib/python3.10/dist-packages (from tensorflow) (1.6.3)\n",
            "Requirement already satisfied: opt-einsum>=2.3.2 in /usr/local/lib/python3.10/dist-packages (from tensorflow) (3.3.0)\n",
            "Requirement already satisfied: wrapt<1.15,>=1.11.0 in /usr/local/lib/python3.10/dist-packages (from tensorflow) (1.14.1)\n",
            "Requirement already satisfied: termcolor>=1.1.0 in /usr/local/lib/python3.10/dist-packages (from tensorflow) (2.3.0)\n",
            "Requirement already satisfied: protobuf!=4.21.0,!=4.21.1,!=4.21.2,!=4.21.3,!=4.21.4,!=4.21.5,<5.0.0dev,>=3.20.3 in /usr/local/lib/python3.10/dist-packages (from tensorflow) (3.20.3)\n",
            "Requirement already satisfied: tensorflow-io-gcs-filesystem>=0.23.1 in /usr/local/lib/python3.10/dist-packages (from tensorflow) (0.32.0)\n",
            "Requirement already satisfied: typing-extensions>=3.6.6 in /usr/local/lib/python3.10/dist-packages (from tensorflow) (4.5.0)\n",
            "Requirement already satisfied: h5py>=2.9.0 in /usr/local/lib/python3.10/dist-packages (from tensorflow) (3.8.0)\n",
            "Requirement already satisfied: libclang>=13.0.0 in /usr/local/lib/python3.10/dist-packages (from tensorflow) (16.0.0)\n",
            "Requirement already satisfied: absl-py>=1.0.0 in /usr/local/lib/python3.10/dist-packages (from tensorflow) (1.4.0)\n",
            "Requirement already satisfied: gast<=0.4.0,>=0.2.1 in /usr/local/lib/python3.10/dist-packages (from tensorflow) (0.4.0)\n",
            "Requirement already satisfied: tensorflow-estimator<2.13,>=2.12.0 in /usr/local/lib/python3.10/dist-packages (from tensorflow) (2.12.0)\n",
            "Requirement already satisfied: six>=1.12.0 in /usr/local/lib/python3.10/dist-packages (from tensorflow) (1.16.0)\n",
            "Requirement already satisfied: networkx in /usr/local/lib/python3.10/dist-packages (from torch) (3.1)\n",
            "Requirement already satisfied: jinja2 in /usr/local/lib/python3.10/dist-packages (from torch) (3.1.2)\n",
            "Requirement already satisfied: filelock in /usr/local/lib/python3.10/dist-packages (from torch) (3.12.0)\n",
            "Requirement already satisfied: triton==2.0.0 in /usr/local/lib/python3.10/dist-packages (from torch) (2.0.0)\n",
            "Requirement already satisfied: sympy in /usr/local/lib/python3.10/dist-packages (from torch) (1.11.1)\n",
            "Requirement already satisfied: cmake in /usr/local/lib/python3.10/dist-packages (from triton==2.0.0->torch) (3.25.2)\n",
            "Requirement already satisfied: lit in /usr/local/lib/python3.10/dist-packages (from triton==2.0.0->torch) (16.0.2)\n",
            "Requirement already satisfied: python-dateutil>=2.7 in /usr/local/lib/python3.10/dist-packages (from matplotlib) (2.8.2)\n",
            "Requirement already satisfied: contourpy>=1.0.1 in /usr/local/lib/python3.10/dist-packages (from matplotlib) (1.0.7)\n",
            "Requirement already satisfied: kiwisolver>=1.0.1 in /usr/local/lib/python3.10/dist-packages (from matplotlib) (1.4.4)\n",
            "Requirement already satisfied: cycler>=0.10 in /usr/local/lib/python3.10/dist-packages (from matplotlib) (0.11.0)\n",
            "Requirement already satisfied: pyparsing>=2.3.1 in /usr/local/lib/python3.10/dist-packages (from matplotlib) (3.0.9)\n",
            "Requirement already satisfied: fonttools>=4.22.0 in /usr/local/lib/python3.10/dist-packages (from matplotlib) (4.39.3)\n",
            "Requirement already satisfied: wheel<1.0,>=0.23.0 in /usr/local/lib/python3.10/dist-packages (from astunparse>=1.6.0->tensorflow) (0.40.0)\n",
            "Requirement already satisfied: ml-dtypes>=0.0.3 in /usr/local/lib/python3.10/dist-packages (from jax>=0.3.15->tensorflow) (0.1.0)\n",
            "Requirement already satisfied: tensorboard-data-server<0.8.0,>=0.7.0 in /usr/local/lib/python3.10/dist-packages (from tensorboard<2.13,>=2.12->tensorflow) (0.7.0)\n",
            "Requirement already satisfied: google-auth<3,>=1.6.3 in /usr/local/lib/python3.10/dist-packages (from tensorboard<2.13,>=2.12->tensorflow) (2.17.3)\n",
            "Requirement already satisfied: tensorboard-plugin-wit>=1.6.0 in /usr/local/lib/python3.10/dist-packages (from tensorboard<2.13,>=2.12->tensorflow) (1.8.1)\n",
            "Requirement already satisfied: werkzeug>=1.0.1 in /usr/local/lib/python3.10/dist-packages (from tensorboard<2.13,>=2.12->tensorflow) (2.3.0)\n",
            "Requirement already satisfied: markdown>=2.6.8 in /usr/local/lib/python3.10/dist-packages (from tensorboard<2.13,>=2.12->tensorflow) (3.4.3)\n",
            "Requirement already satisfied: google-auth-oauthlib<1.1,>=0.5 in /usr/local/lib/python3.10/dist-packages (from tensorboard<2.13,>=2.12->tensorflow) (1.0.0)\n",
            "Requirement already satisfied: requests<3,>=2.21.0 in /usr/local/lib/python3.10/dist-packages (from tensorboard<2.13,>=2.12->tensorflow) (2.27.1)\n",
            "Requirement already satisfied: MarkupSafe>=2.0 in /usr/local/lib/python3.10/dist-packages (from jinja2->torch) (2.1.2)\n",
            "Requirement already satisfied: mpmath>=0.19 in /usr/local/lib/python3.10/dist-packages (from sympy->torch) (1.3.0)\n",
            "Requirement already satisfied: pyasn1-modules>=0.2.1 in /usr/local/lib/python3.10/dist-packages (from google-auth<3,>=1.6.3->tensorboard<2.13,>=2.12->tensorflow) (0.3.0)\n",
            "Requirement already satisfied: rsa<5,>=3.1.4 in /usr/local/lib/python3.10/dist-packages (from google-auth<3,>=1.6.3->tensorboard<2.13,>=2.12->tensorflow) (4.9)\n",
            "Requirement already satisfied: cachetools<6.0,>=2.0.0 in /usr/local/lib/python3.10/dist-packages (from google-auth<3,>=1.6.3->tensorboard<2.13,>=2.12->tensorflow) (5.3.0)\n",
            "Requirement already satisfied: requests-oauthlib>=0.7.0 in /usr/local/lib/python3.10/dist-packages (from google-auth-oauthlib<1.1,>=0.5->tensorboard<2.13,>=2.12->tensorflow) (1.3.1)\n",
            "Requirement already satisfied: certifi>=2017.4.17 in /usr/local/lib/python3.10/dist-packages (from requests<3,>=2.21.0->tensorboard<2.13,>=2.12->tensorflow) (2022.12.7)\n",
            "Requirement already satisfied: charset-normalizer~=2.0.0 in /usr/local/lib/python3.10/dist-packages (from requests<3,>=2.21.0->tensorboard<2.13,>=2.12->tensorflow) (2.0.12)\n",
            "Requirement already satisfied: urllib3<1.27,>=1.21.1 in /usr/local/lib/python3.10/dist-packages (from requests<3,>=2.21.0->tensorboard<2.13,>=2.12->tensorflow) (1.26.15)\n",
            "Requirement already satisfied: idna<4,>=2.5 in /usr/local/lib/python3.10/dist-packages (from requests<3,>=2.21.0->tensorboard<2.13,>=2.12->tensorflow) (3.4)\n",
            "Requirement already satisfied: pyasn1<0.6.0,>=0.4.6 in /usr/local/lib/python3.10/dist-packages (from pyasn1-modules>=0.2.1->google-auth<3,>=1.6.3->tensorboard<2.13,>=2.12->tensorflow) (0.5.0)\n",
            "Requirement already satisfied: oauthlib>=3.0.0 in /usr/local/lib/python3.10/dist-packages (from requests-oauthlib>=0.7.0->google-auth-oauthlib<1.1,>=0.5->tensorboard<2.13,>=2.12->tensorflow) (3.2.2)\n",
            "Building wheels for collected packages: sklearn\n",
            "  Building wheel for sklearn (setup.py) ... \u001b[?25l\u001b[?25hdone\n",
            "  Created wheel for sklearn: filename=sklearn-0.0.post4-py3-none-any.whl size=2973 sha256=b5e81f67643ba84f2b1e864c2195d21c9f75436883d6764c83d8ffd9ec1431b1\n",
            "  Stored in directory: /root/.cache/pip/wheels/46/b8/69/4f7789b7d2fc0718a44cbc4ae5d40970a40c22c472ae50f0a1\n",
            "Successfully built sklearn\n",
            "Installing collected packages: sklearn, gunicorn\n",
            "Successfully installed gunicorn-20.1.0 sklearn-0.0.post4\n"
          ]
        }
      ],
      "source": [
        "!pip install tensorflow torch numpy gunicorn scipy sklearn pillow matplotlib"
      ]
    },
    {
      "cell_type": "code",
      "source": [
        "import sys\n",
        "import numpy as np\n",
        "import pickle\n",
        "import os\n",
        "import matplotlib.pyplot as plt\n",
        "\n",
        "import cv2\n",
        "import time\n",
        "import itertools\n",
        "import random\n",
        "\n",
        "from sklearn.utils import shuffle\n",
        "\n",
        "import tensorflow as tf\n",
        "from tensorflow.keras.models import Sequential\n",
        "from keras.optimizers import Adam, RMSprop\n",
        "from tensorflow.keras.layers import Dense, Lambda, Flatten, Convolution2D, MaxPooling2D, ZeroPadding2D, Activation, Input, Concatenate, Dropout, BatchNormalization\n",
        "from tensorflow.keras.preprocessing.image import load_img, img_to_array\n",
        "from keras.models import Model\n",
        "from keras.initializers import glorot_uniform\n",
        "from keras.callbacks import EarlyStopping, ModelCheckpoint, ReduceLROnPlateau\n",
        "from keras import backend as K"
      ],
      "metadata": {
        "id": "3leqsAUAqF2-"
      },
      "execution_count": 1,
      "outputs": []
    },
    {
      "cell_type": "code",
      "source": [
        "from google.colab import drive\n",
        "drive.mount('/content/gdrive', force_remount=True)"
      ],
      "metadata": {
        "colab": {
          "base_uri": "https://localhost:8080/"
        },
        "id": "O_KsU9jUqTM3",
        "outputId": "aacfb4f7-e14d-4cea-9fe3-646fcf8a29c7"
      },
      "execution_count": 2,
      "outputs": [
        {
          "output_type": "stream",
          "name": "stdout",
          "text": [
            "Mounted at /content/gdrive\n"
          ]
        }
      ]
    },
    {
      "cell_type": "markdown",
      "source": [
        "# For this Siamese Neural Network, we are using the BHSig260 Hindi Dataset. The link to the dataset is [Kaggle BHSig260](www.kaggle.com/datasets/ishanikathuria/handwritten-signature-datasets?resource=download)\n",
        "\n",
        "### After downloading the dataset, create a google drive folder called SignatureVerification, and move the Hindi dataset into the folder. After this, create another directory within SignatureVerification/ called Weights to save the future model during training."
      ],
      "metadata": {
        "id": "sVEp6Nc1jWQf"
      }
    },
    {
      "cell_type": "code",
      "source": [
        "# Set the path to the directory containing the signature dataset\n",
        "data_path = \"/content/gdrive/My Drive/SignatureVerification/Hindi/\"\n",
        "\n",
        "# Get a list of all subdirectories in the folder\n",
        "dir_list = [f.path for f in os.scandir(data_path) if f.is_dir()]\n",
        "dir_list.sort()\n",
        "\n",
        "# Define a function to load the images --> MIGHT NOT NEED\n",
        "def load_image(path):\n",
        "    img = load_img(path, target_size=(155, 220), color_mode='grayscale')\n",
        "    img = img_to_array(img)\n",
        "    img = img.astype('float32') / 255.0\n",
        "    return img\n",
        "\n",
        "# Create empty lists to hold the genuine and forged signatures\n",
        "forged_images = []\n",
        "genuine_images = []\n",
        "\n",
        "n = 0\n",
        "\n",
        "for person in dir_list:\n",
        "  print(person)\n",
        "\n",
        "  images = os.listdir(person)\n",
        "  images.sort\n",
        "  images = [person+'/'+x for x in images]\n",
        "\n",
        "  curr_forged_images = []\n",
        "  curr_genuine_images = []\n",
        "\n",
        "  if (len(images) == 54):\n",
        "    for image in images:\n",
        "      if \"-F-\" in image:\n",
        "        curr_forged_images.append(image)\n",
        "      else:\n",
        "        curr_genuine_images.append(image)\n",
        "\n",
        "    forged_images.append(curr_forged_images)\n",
        "    genuine_images.append(curr_genuine_images)"
      ],
      "metadata": {
        "id": "HzYHN2c_uUOm",
        "colab": {
          "base_uri": "https://localhost:8080/"
        },
        "outputId": "a9721ea5-afc8-4edf-add0-af5cd15de565"
      },
      "execution_count": 3,
      "outputs": [
        {
          "output_type": "stream",
          "name": "stdout",
          "text": [
            "/content/gdrive/My Drive/SignatureVerification/Hindi/001\n",
            "/content/gdrive/My Drive/SignatureVerification/Hindi/002\n",
            "/content/gdrive/My Drive/SignatureVerification/Hindi/003\n",
            "/content/gdrive/My Drive/SignatureVerification/Hindi/004\n",
            "/content/gdrive/My Drive/SignatureVerification/Hindi/005\n",
            "/content/gdrive/My Drive/SignatureVerification/Hindi/006\n",
            "/content/gdrive/My Drive/SignatureVerification/Hindi/007\n",
            "/content/gdrive/My Drive/SignatureVerification/Hindi/008\n",
            "/content/gdrive/My Drive/SignatureVerification/Hindi/009\n",
            "/content/gdrive/My Drive/SignatureVerification/Hindi/010\n",
            "/content/gdrive/My Drive/SignatureVerification/Hindi/011\n",
            "/content/gdrive/My Drive/SignatureVerification/Hindi/012\n",
            "/content/gdrive/My Drive/SignatureVerification/Hindi/013\n",
            "/content/gdrive/My Drive/SignatureVerification/Hindi/014\n",
            "/content/gdrive/My Drive/SignatureVerification/Hindi/015\n",
            "/content/gdrive/My Drive/SignatureVerification/Hindi/016\n",
            "/content/gdrive/My Drive/SignatureVerification/Hindi/017\n",
            "/content/gdrive/My Drive/SignatureVerification/Hindi/018\n",
            "/content/gdrive/My Drive/SignatureVerification/Hindi/019\n",
            "/content/gdrive/My Drive/SignatureVerification/Hindi/020\n",
            "/content/gdrive/My Drive/SignatureVerification/Hindi/021\n",
            "/content/gdrive/My Drive/SignatureVerification/Hindi/022\n",
            "/content/gdrive/My Drive/SignatureVerification/Hindi/023\n",
            "/content/gdrive/My Drive/SignatureVerification/Hindi/024\n",
            "/content/gdrive/My Drive/SignatureVerification/Hindi/025\n",
            "/content/gdrive/My Drive/SignatureVerification/Hindi/026\n",
            "/content/gdrive/My Drive/SignatureVerification/Hindi/027\n",
            "/content/gdrive/My Drive/SignatureVerification/Hindi/028\n",
            "/content/gdrive/My Drive/SignatureVerification/Hindi/029\n",
            "/content/gdrive/My Drive/SignatureVerification/Hindi/030\n",
            "/content/gdrive/My Drive/SignatureVerification/Hindi/031\n",
            "/content/gdrive/My Drive/SignatureVerification/Hindi/032\n",
            "/content/gdrive/My Drive/SignatureVerification/Hindi/033\n",
            "/content/gdrive/My Drive/SignatureVerification/Hindi/034\n",
            "/content/gdrive/My Drive/SignatureVerification/Hindi/035\n",
            "/content/gdrive/My Drive/SignatureVerification/Hindi/036\n",
            "/content/gdrive/My Drive/SignatureVerification/Hindi/037\n",
            "/content/gdrive/My Drive/SignatureVerification/Hindi/038\n",
            "/content/gdrive/My Drive/SignatureVerification/Hindi/039\n",
            "/content/gdrive/My Drive/SignatureVerification/Hindi/040\n",
            "/content/gdrive/My Drive/SignatureVerification/Hindi/041\n",
            "/content/gdrive/My Drive/SignatureVerification/Hindi/042\n",
            "/content/gdrive/My Drive/SignatureVerification/Hindi/043\n",
            "/content/gdrive/My Drive/SignatureVerification/Hindi/044\n",
            "/content/gdrive/My Drive/SignatureVerification/Hindi/045\n",
            "/content/gdrive/My Drive/SignatureVerification/Hindi/046\n",
            "/content/gdrive/My Drive/SignatureVerification/Hindi/047\n",
            "/content/gdrive/My Drive/SignatureVerification/Hindi/048\n",
            "/content/gdrive/My Drive/SignatureVerification/Hindi/049\n",
            "/content/gdrive/My Drive/SignatureVerification/Hindi/050\n",
            "/content/gdrive/My Drive/SignatureVerification/Hindi/051\n",
            "/content/gdrive/My Drive/SignatureVerification/Hindi/052\n",
            "/content/gdrive/My Drive/SignatureVerification/Hindi/053\n",
            "/content/gdrive/My Drive/SignatureVerification/Hindi/054\n",
            "/content/gdrive/My Drive/SignatureVerification/Hindi/055\n",
            "/content/gdrive/My Drive/SignatureVerification/Hindi/056\n",
            "/content/gdrive/My Drive/SignatureVerification/Hindi/057\n",
            "/content/gdrive/My Drive/SignatureVerification/Hindi/058\n",
            "/content/gdrive/My Drive/SignatureVerification/Hindi/059\n",
            "/content/gdrive/My Drive/SignatureVerification/Hindi/060\n",
            "/content/gdrive/My Drive/SignatureVerification/Hindi/061\n",
            "/content/gdrive/My Drive/SignatureVerification/Hindi/062\n",
            "/content/gdrive/My Drive/SignatureVerification/Hindi/063\n",
            "/content/gdrive/My Drive/SignatureVerification/Hindi/064\n",
            "/content/gdrive/My Drive/SignatureVerification/Hindi/065\n",
            "/content/gdrive/My Drive/SignatureVerification/Hindi/066\n",
            "/content/gdrive/My Drive/SignatureVerification/Hindi/067\n",
            "/content/gdrive/My Drive/SignatureVerification/Hindi/068\n",
            "/content/gdrive/My Drive/SignatureVerification/Hindi/069\n",
            "/content/gdrive/My Drive/SignatureVerification/Hindi/070\n",
            "/content/gdrive/My Drive/SignatureVerification/Hindi/071\n",
            "/content/gdrive/My Drive/SignatureVerification/Hindi/072\n",
            "/content/gdrive/My Drive/SignatureVerification/Hindi/073\n",
            "/content/gdrive/My Drive/SignatureVerification/Hindi/074\n",
            "/content/gdrive/My Drive/SignatureVerification/Hindi/075\n",
            "/content/gdrive/My Drive/SignatureVerification/Hindi/076\n",
            "/content/gdrive/My Drive/SignatureVerification/Hindi/077\n",
            "/content/gdrive/My Drive/SignatureVerification/Hindi/078\n",
            "/content/gdrive/My Drive/SignatureVerification/Hindi/079\n",
            "/content/gdrive/My Drive/SignatureVerification/Hindi/080\n",
            "/content/gdrive/My Drive/SignatureVerification/Hindi/081\n",
            "/content/gdrive/My Drive/SignatureVerification/Hindi/082\n",
            "/content/gdrive/My Drive/SignatureVerification/Hindi/083\n",
            "/content/gdrive/My Drive/SignatureVerification/Hindi/084\n",
            "/content/gdrive/My Drive/SignatureVerification/Hindi/085\n",
            "/content/gdrive/My Drive/SignatureVerification/Hindi/086\n",
            "/content/gdrive/My Drive/SignatureVerification/Hindi/087\n",
            "/content/gdrive/My Drive/SignatureVerification/Hindi/088\n",
            "/content/gdrive/My Drive/SignatureVerification/Hindi/089\n",
            "/content/gdrive/My Drive/SignatureVerification/Hindi/090\n",
            "/content/gdrive/My Drive/SignatureVerification/Hindi/091\n",
            "/content/gdrive/My Drive/SignatureVerification/Hindi/092\n",
            "/content/gdrive/My Drive/SignatureVerification/Hindi/093\n",
            "/content/gdrive/My Drive/SignatureVerification/Hindi/094\n",
            "/content/gdrive/My Drive/SignatureVerification/Hindi/095\n",
            "/content/gdrive/My Drive/SignatureVerification/Hindi/096\n",
            "/content/gdrive/My Drive/SignatureVerification/Hindi/097\n",
            "/content/gdrive/My Drive/SignatureVerification/Hindi/098\n",
            "/content/gdrive/My Drive/SignatureVerification/Hindi/099\n",
            "/content/gdrive/My Drive/SignatureVerification/Hindi/100\n",
            "/content/gdrive/My Drive/SignatureVerification/Hindi/101\n",
            "/content/gdrive/My Drive/SignatureVerification/Hindi/102\n",
            "/content/gdrive/My Drive/SignatureVerification/Hindi/103\n",
            "/content/gdrive/My Drive/SignatureVerification/Hindi/104\n",
            "/content/gdrive/My Drive/SignatureVerification/Hindi/105\n",
            "/content/gdrive/My Drive/SignatureVerification/Hindi/106\n",
            "/content/gdrive/My Drive/SignatureVerification/Hindi/107\n",
            "/content/gdrive/My Drive/SignatureVerification/Hindi/108\n",
            "/content/gdrive/My Drive/SignatureVerification/Hindi/109\n",
            "/content/gdrive/My Drive/SignatureVerification/Hindi/110\n",
            "/content/gdrive/My Drive/SignatureVerification/Hindi/111\n",
            "/content/gdrive/My Drive/SignatureVerification/Hindi/112\n",
            "/content/gdrive/My Drive/SignatureVerification/Hindi/113\n",
            "/content/gdrive/My Drive/SignatureVerification/Hindi/114\n",
            "/content/gdrive/My Drive/SignatureVerification/Hindi/115\n",
            "/content/gdrive/My Drive/SignatureVerification/Hindi/116\n",
            "/content/gdrive/My Drive/SignatureVerification/Hindi/117\n",
            "/content/gdrive/My Drive/SignatureVerification/Hindi/118\n",
            "/content/gdrive/My Drive/SignatureVerification/Hindi/119\n",
            "/content/gdrive/My Drive/SignatureVerification/Hindi/120\n",
            "/content/gdrive/My Drive/SignatureVerification/Hindi/121\n",
            "/content/gdrive/My Drive/SignatureVerification/Hindi/122\n",
            "/content/gdrive/My Drive/SignatureVerification/Hindi/123\n",
            "/content/gdrive/My Drive/SignatureVerification/Hindi/124\n",
            "/content/gdrive/My Drive/SignatureVerification/Hindi/125\n",
            "/content/gdrive/My Drive/SignatureVerification/Hindi/126\n",
            "/content/gdrive/My Drive/SignatureVerification/Hindi/127\n",
            "/content/gdrive/My Drive/SignatureVerification/Hindi/128\n",
            "/content/gdrive/My Drive/SignatureVerification/Hindi/129\n",
            "/content/gdrive/My Drive/SignatureVerification/Hindi/130\n",
            "/content/gdrive/My Drive/SignatureVerification/Hindi/131\n",
            "/content/gdrive/My Drive/SignatureVerification/Hindi/132\n",
            "/content/gdrive/My Drive/SignatureVerification/Hindi/133\n",
            "/content/gdrive/My Drive/SignatureVerification/Hindi/134\n",
            "/content/gdrive/My Drive/SignatureVerification/Hindi/135\n",
            "/content/gdrive/My Drive/SignatureVerification/Hindi/136\n",
            "/content/gdrive/My Drive/SignatureVerification/Hindi/137\n",
            "/content/gdrive/My Drive/SignatureVerification/Hindi/138\n",
            "/content/gdrive/My Drive/SignatureVerification/Hindi/139\n",
            "/content/gdrive/My Drive/SignatureVerification/Hindi/140\n",
            "/content/gdrive/My Drive/SignatureVerification/Hindi/141\n",
            "/content/gdrive/My Drive/SignatureVerification/Hindi/142\n",
            "/content/gdrive/My Drive/SignatureVerification/Hindi/143\n",
            "/content/gdrive/My Drive/SignatureVerification/Hindi/144\n",
            "/content/gdrive/My Drive/SignatureVerification/Hindi/145\n",
            "/content/gdrive/My Drive/SignatureVerification/Hindi/146\n",
            "/content/gdrive/My Drive/SignatureVerification/Hindi/147\n",
            "/content/gdrive/My Drive/SignatureVerification/Hindi/148\n",
            "/content/gdrive/My Drive/SignatureVerification/Hindi/149\n",
            "/content/gdrive/My Drive/SignatureVerification/Hindi/150\n",
            "/content/gdrive/My Drive/SignatureVerification/Hindi/151\n",
            "/content/gdrive/My Drive/SignatureVerification/Hindi/152\n",
            "/content/gdrive/My Drive/SignatureVerification/Hindi/153\n",
            "/content/gdrive/My Drive/SignatureVerification/Hindi/154\n",
            "/content/gdrive/My Drive/SignatureVerification/Hindi/155\n",
            "/content/gdrive/My Drive/SignatureVerification/Hindi/156\n",
            "/content/gdrive/My Drive/SignatureVerification/Hindi/157\n",
            "/content/gdrive/My Drive/SignatureVerification/Hindi/158\n",
            "/content/gdrive/My Drive/SignatureVerification/Hindi/159\n",
            "/content/gdrive/My Drive/SignatureVerification/Hindi/160\n"
          ]
        }
      ]
    },
    {
      "cell_type": "code",
      "source": [
        "print(len(genuine_images), len(forged_images))\n",
        "print(genuine_images[0])\n",
        "\n",
        "# Set the percentage split for training, validation, and testing\n",
        "train_percent = 0.7\n",
        "val_percent = 0.15\n",
        "test_percent = 0.15\n",
        "\n",
        "# Split the genuine signatures into training, validation, and testing groups\n",
        "genuine_train = genuine_images[:int(len(genuine_images)*train_percent)]\n",
        "genuine_val = genuine_images[int(len(genuine_images)*train_percent):int(len(genuine_images)*(train_percent+val_percent))]\n",
        "genuine_test = genuine_images[int(len(genuine_images)*(train_percent+val_percent)):]\n",
        "print(len(genuine_train), len(genuine_val), len(genuine_test))\n",
        "\n",
        "# Split the forged signatures into training, validation, and testing groups\n",
        "forged_train = forged_images[:int(len(forged_images)*train_percent)]\n",
        "forged_val = forged_images[int(len(forged_images)*train_percent):int(len(forged_images)*(train_percent+val_percent))]\n",
        "forged_test = forged_images[int(len(forged_images)*(train_percent+val_percent)):]\n",
        "print(len(forged_train), len(forged_val), len(forged_test))"
      ],
      "metadata": {
        "id": "v52BerctyuND",
        "colab": {
          "base_uri": "https://localhost:8080/"
        },
        "outputId": "9795d10d-9e02-4cf2-9bbc-74c286af89a9"
      },
      "execution_count": 4,
      "outputs": [
        {
          "output_type": "stream",
          "name": "stdout",
          "text": [
            "155 155\n",
            "['/content/gdrive/My Drive/SignatureVerification/Hindi/001/H-S-1-G-14.tif', '/content/gdrive/My Drive/SignatureVerification/Hindi/001/H-S-1-G-08.tif', '/content/gdrive/My Drive/SignatureVerification/Hindi/001/H-S-1-G-16.tif', '/content/gdrive/My Drive/SignatureVerification/Hindi/001/H-S-1-G-22.tif', '/content/gdrive/My Drive/SignatureVerification/Hindi/001/H-S-1-G-17.tif', '/content/gdrive/My Drive/SignatureVerification/Hindi/001/H-S-1-G-12.tif', '/content/gdrive/My Drive/SignatureVerification/Hindi/001/H-S-1-G-04.tif', '/content/gdrive/My Drive/SignatureVerification/Hindi/001/H-S-1-G-07.tif', '/content/gdrive/My Drive/SignatureVerification/Hindi/001/H-S-1-G-02.tif', '/content/gdrive/My Drive/SignatureVerification/Hindi/001/H-S-1-G-03.tif', '/content/gdrive/My Drive/SignatureVerification/Hindi/001/H-S-1-G-24.tif', '/content/gdrive/My Drive/SignatureVerification/Hindi/001/H-S-1-G-06.tif', '/content/gdrive/My Drive/SignatureVerification/Hindi/001/H-S-1-G-13.tif', '/content/gdrive/My Drive/SignatureVerification/Hindi/001/H-S-1-G-01.tif', '/content/gdrive/My Drive/SignatureVerification/Hindi/001/H-S-1-G-21.tif', '/content/gdrive/My Drive/SignatureVerification/Hindi/001/H-S-1-G-20.tif', '/content/gdrive/My Drive/SignatureVerification/Hindi/001/H-S-1-G-23.tif', '/content/gdrive/My Drive/SignatureVerification/Hindi/001/H-S-1-G-15.tif', '/content/gdrive/My Drive/SignatureVerification/Hindi/001/H-S-1-G-19.tif', '/content/gdrive/My Drive/SignatureVerification/Hindi/001/H-S-1-G-05.tif', '/content/gdrive/My Drive/SignatureVerification/Hindi/001/H-S-1-G-09.tif', '/content/gdrive/My Drive/SignatureVerification/Hindi/001/H-S-1-G-18.tif', '/content/gdrive/My Drive/SignatureVerification/Hindi/001/H-S-1-G-10.tif', '/content/gdrive/My Drive/SignatureVerification/Hindi/001/H-S-1-G-11.tif']\n",
            "108 23 24\n",
            "108 23 24\n"
          ]
        }
      ]
    },
    {
      "cell_type": "code",
      "source": [
        "# All the images will be converted to the same size before processing\n",
        "img_h, img_w = 155, 220"
      ],
      "metadata": {
        "id": "NYAxPH-nIajt"
      },
      "execution_count": 5,
      "outputs": []
    },
    {
      "cell_type": "code",
      "source": [
        "# Use matplotlib to display two genuine copies of a signature and a forged copy from the same person\n",
        "def visualize_sample_signature():\n",
        "    '''Function to randomly select a signature from train set and\n",
        "    print two genuine copies and one forged copy'''\n",
        "    fig, (ax1, ax2, ax3) = plt.subplots(1, 3, figsize = (10, 10))\n",
        "    k = np.random.randint(len(genuine_train))\n",
        "    orig_img_names = random.sample(genuine_train[k], 2)\n",
        "    forg_img_name = random.sample(forged_train[k], 1)\n",
        "    orig_img1 = cv2.imread(orig_img_names[0], 0)\n",
        "    orig_img2 = cv2.imread(orig_img_names[1], 0)\n",
        "    forg_img = plt.imread(forg_img_name[0], 0)\n",
        "    orig_img1 = cv2.resize(orig_img1, (img_w, img_h))\n",
        "    orig_img2 = cv2.resize(orig_img2, (img_w, img_h))\n",
        "    forg_img = cv2.resize(forg_img, (img_w, img_h))\n",
        "\n",
        "    ax1.imshow(orig_img1, cmap = 'gray')\n",
        "    ax2.imshow(orig_img2, cmap = 'gray')\n",
        "    ax3.imshow(forg_img, cmap = 'gray')\n",
        "\n",
        "    ax1.set_title('Genuine Copy')\n",
        "    ax1.axis('off')\n",
        "    ax2.set_title('Genuine Copy')\n",
        "    ax2.axis('off')\n",
        "    ax3.set_title('Forged Copy')\n",
        "    ax3.axis('off')"
      ],
      "metadata": {
        "id": "PLrZxw9BIMaV"
      },
      "execution_count": 6,
      "outputs": []
    },
    {
      "cell_type": "code",
      "source": [
        "visualize_sample_signature()"
      ],
      "metadata": {
        "colab": {
          "base_uri": "https://localhost:8080/",
          "height": 219
        },
        "id": "9FKeDV9XIdnY",
        "outputId": "46b3f1bd-eec2-4660-9ae6-4493fecb509a"
      },
      "execution_count": 7,
      "outputs": [
        {
          "output_type": "display_data",
          "data": {
            "text/plain": [
              "<Figure size 1000x1000 with 3 Axes>"
            ],
            "image/png": "[encoded data removed]"
          },
          "metadata": {}
        }
      ]
    },
    {
      "cell_type": "code",
      "source": [
        "def euclidean_distance(vectors):\n",
        "  # Calculate euclidean distance between vectors\n",
        "  vector1, vector2 = vectors\n",
        "  sum_square = K.sum(K.square(vector1 - vector2), axis=1, keepdims=True)\n",
        "  return K.sqrt(K.maximum(sum_square, K.epsilon()))"
      ],
      "metadata": {
        "id": "rk27ELXEbER4"
      },
      "execution_count": 8,
      "outputs": []
    },
    {
      "cell_type": "code",
      "source": [
        "def create_siamese_network(input_shape):\n",
        "    # Base Siamese Network\n",
        "    print(input_shape)\n",
        "\n",
        "    # Input Layers\n",
        "    input_layer_1 = Input(input_shape)\n",
        "    input_layer_2 = Input(input_shape)\n",
        "\n",
        "    seq = Sequential()\n",
        "    seq.add(Convolution2D(32, kernel_size=(3,3), activation='relu', input_shape=input_shape))\n",
        "    seq.add(MaxPooling2D(pool_size=(2,2)))\n",
        "    seq.add(Convolution2D(64, kernel_size=(3,3), activation='relu'))\n",
        "    seq.add(MaxPooling2D(pool_size=(2,2)))\n",
        "    seq.add(Convolution2D(64, kernel_size=(3, 3), activation='relu'))\n",
        "    seq.add(Flatten())\n",
        "    seq.add(Dense(128, activation='relu'))\n",
        "    seq.add(Dense(64, activation='relu'))\n",
        "    seq.add(Dense(32, activation='relu'))\n",
        "\n",
        "    # Apply the base network to each input layer to get a left and right side\n",
        "    # of the siamese network\n",
        "    encoded_l = seq(input_layer_1)\n",
        "    encoded_r = seq(input_layer_2)\n",
        "\n",
        "    # Calculate the distance between outputs to adjust weights\n",
        "    distance = Lambda(euclidean_distance)([encoded_l, encoded_r])\n",
        "\n",
        "    # Define the output layer\n",
        "    output_layer = Dense(1, activation='sigmoid')(distance)\n",
        "    siamese_network = Model(inputs=[input_layer_1, input_layer_2], outputs=output_layer) \n",
        "\n",
        "    return siamese_network"
      ],
      "metadata": {
        "id": "JA4FbC5u08D8"
      },
      "execution_count": 15,
      "outputs": []
    },
    {
      "cell_type": "code",
      "source": [
        "def contrastive_loss(y_true, y_pred):\n",
        "  margin = 1\n",
        "  return K.mean(y_true * K.square(y_pred) + (1 - y_true) * K.square(K.maximum(margin - y_pred, 0)))"
      ],
      "metadata": {
        "id": "88ekyz9PbKUd"
      },
      "execution_count": 10,
      "outputs": []
    },
    {
      "cell_type": "code",
      "source": [
        "input_shape = (img_h, img_w, 1)\n",
        "\n",
        "siamese_net = create_siamese_network(input_shape)\n",
        "siamese_net.compile(loss='binary_crossentropy', optimizer=RMSprop(learning_rate=1e-4), metrics=['accuracy'])"
      ],
      "metadata": {
        "id": "cDpPmGTf1Acu",
        "colab": {
          "base_uri": "https://localhost:8080/"
        },
        "outputId": "da598e6d-332e-4946-d200-70f16be8ad4a"
      },
      "execution_count": 11,
      "outputs": [
        {
          "output_type": "stream",
          "name": "stdout",
          "text": [
            "(155, 220, 1)\n"
          ]
        }
      ]
    },
    {
      "cell_type": "code",
      "source": [
        "def generate_pairs(genuine_group, forged_group, batch_size):\n",
        "\n",
        "  while True:\n",
        "    genuine_pairs, forged_pairs = [], []\n",
        "    gen_gen_labels, gen_forg_labels = [], []\n",
        "    all_pairs, all_labels = [], []\n",
        "\n",
        "    for genuine, forged in zip(genuine_group, forged_group):\n",
        "      genuine_pairs.extend(list(itertools.combinations(genuine, 2)))\n",
        "\n",
        "      for i in range(len(forged)):\n",
        "        forged_pairs.extend(list(itertools.product(genuine[i:i+1], random.sample(forged, 12))))\n",
        "\n",
        "    gen_gen_labels = [1]*len(genuine_pairs)\n",
        "    gen_forg_labels = [0]*len(forged_pairs)\n",
        "\n",
        "    all_pairs = genuine_pairs + forged_pairs\n",
        "    all_labels = gen_gen_labels + gen_forg_labels\n",
        "    all_pairs, all_labels = shuffle(all_pairs, all_labels)\n",
        "\n",
        "    pairs = [np.zeros((batch_size, img_h, img_w, 1)) for i in range(2)]\n",
        "    labels = np.zeros((batch_size,))\n",
        "    counter = 0\n",
        "\n",
        "    for idx, pair in enumerate(all_pairs):\n",
        "      img1 = cv2.imread(pair[0], 0)\n",
        "      img2 = cv2.imread(pair[1], 0)\n",
        "\n",
        "      img1 = cv2.resize(img1, (img_w, img_h))\n",
        "      img2 = cv2.resize(img2, (img_w, img_h))\n",
        "\n",
        "      img1 = np.array(img1, dtype=np.float64)\n",
        "      img2 = np.array(img2, dtype=np.float64)\n",
        "\n",
        "      img1 /= 255\n",
        "      img2 /= 255\n",
        "\n",
        "      img1 = img1[..., np.newaxis]\n",
        "      img2 = img2[..., np.newaxis]\n",
        "\n",
        "      pairs[0][counter, :, :, :] = img1\n",
        "      pairs[1][counter, :, :, :] = img2\n",
        "      labels[counter] = all_labels[idx]\n",
        "      counter += 1\n",
        "\n",
        "      if counter == batch_size:\n",
        "        yield pairs, labels\n",
        "        counter = 0\n",
        "        pairs = [np.zeros((batch_size, img_h, img_w, 1)) for i in range(2)]\n",
        "        labels = np.zeros((batch_size,))"
      ],
      "metadata": {
        "id": "8Z05IZtD4edn"
      },
      "execution_count": 12,
      "outputs": []
    },
    {
      "cell_type": "code",
      "source": [
        "batch_sz = 128\n",
        "num_train_samples = 276*len(genuine_train) + 300*len(forged_train)\n",
        "num_val_samples = num_test_samples = 276*len(genuine_val) + 300*len(forged_val)\n",
        "num_train_samples, num_val_samples, num_test_samples"
      ],
      "metadata": {
        "colab": {
          "base_uri": "https://localhost:8080/"
        },
        "id": "RZHItnwoldPo",
        "outputId": "8598ce8b-49da-4f48-fdab-ccecd893cea9"
      },
      "execution_count": 13,
      "outputs": [
        {
          "output_type": "execute_result",
          "data": {
            "text/plain": [
              "(62208, 13248, 13248)"
            ]
          },
          "metadata": {},
          "execution_count": 13
        }
      ]
    },
    {
      "cell_type": "code",
      "source": [
        "# Save the model after every epoch\n",
        "# Reduce the learning rate if the validation loss does not improve for 2 epochs\n",
        "# Stop the training early if the validation loss does not improve for 5 epochs\n",
        "callbacks = [\n",
        "    EarlyStopping(patience=5, verbose=1),\n",
        "    ReduceLROnPlateau(factor=0.1, patience=2, min_lr=0.000001, verbose=1),\n",
        "    ModelCheckpoint('/content/drive/MyDrive/SignatureVerification/Weights/signet-bhsig260-{epoch:03d}.h5', verbose=1, save_weights_only=True)\n",
        "]\n",
        "\n",
        "results = siamese_net.fit(\n",
        "    generate_pairs(genuine_train, forged_train, batch_size=batch_sz),\n",
        "    steps_per_epoch = (num_train_samples//batch_sz) // 8,\n",
        "    validation_data = generate_pairs(genuine_val, forged_val, batch_size=batch_sz),\n",
        "    validation_steps = (num_val_samples//batch_sz) // 8,\n",
        "    epochs = 15,\n",
        "    callbacks = callbacks\n",
        ")"
      ],
      "metadata": {
        "colab": {
          "base_uri": "https://localhost:8080/",
          "height": 510
        },
        "id": "oekNlIXlknuP",
        "outputId": "0203c9c2-0fb2-4bba-a554-416cc21a34c4"
      },
      "execution_count": 14,
      "outputs": [
        {
          "output_type": "stream",
          "name": "stdout",
          "text": [
            "Epoch 1/15\n",
            "60/60 [==============================] - ETA: 0s - loss: 0.6930 - accuracy: 0.5026 \n",
            "Epoch 1: saving model to /content/drive/MyDrive/SignatureVerification/Weights/signet-bhsig260-001.h5\n",
            "60/60 [==============================] - 2573s 43s/step - loss: 0.6930 - accuracy: 0.5026 - val_loss: 0.6945 - val_accuracy: 0.4915 - lr: 1.0000e-04\n",
            "Epoch 2/15\n",
            "28/60 [=============>................] - ETA: 10:11 - loss: 0.6925 - accuracy: 0.4944"
          ]
        },
        {
          "output_type": "error",
          "ename": "KeyboardInterrupt",
          "evalue": "ignored",
          "traceback": [
            "\u001b[0;31m---------------------------------------------------------------------------\u001b[0m",
            "\u001b[0;31mKeyboardInterrupt\u001b[0m                         Traceback (most recent call last)",
            "\u001b[0;32m<ipython-input-14-591c7395151a>\u001b[0m in \u001b[0;36m<cell line: 10>\u001b[0;34m()\u001b[0m\n\u001b[1;32m      8\u001b[0m ]\n\u001b[1;32m      9\u001b[0m \u001b[0;34m\u001b[0m\u001b[0m\n\u001b[0;32m---> 10\u001b[0;31m results = siamese_net.fit(\n\u001b[0m\u001b[1;32m     11\u001b[0m     \u001b[0mgenerate_pairs\u001b[0m\u001b[0;34m(\u001b[0m\u001b[0mgenuine_train\u001b[0m\u001b[0;34m,\u001b[0m \u001b[0mforged_train\u001b[0m\u001b[0;34m,\u001b[0m \u001b[0mbatch_size\u001b[0m\u001b[0;34m=\u001b[0m\u001b[0mbatch_sz\u001b[0m\u001b[0;34m)\u001b[0m\u001b[0;34m,\u001b[0m\u001b[0;34m\u001b[0m\u001b[0;34m\u001b[0m\u001b[0m\n\u001b[1;32m     12\u001b[0m     \u001b[0msteps_per_epoch\u001b[0m \u001b[0;34m=\u001b[0m \u001b[0;34m(\u001b[0m\u001b[0mnum_train_samples\u001b[0m\u001b[0;34m//\u001b[0m\u001b[0mbatch_sz\u001b[0m\u001b[0;34m)\u001b[0m \u001b[0;34m//\u001b[0m \u001b[0;36m8\u001b[0m\u001b[0;34m,\u001b[0m\u001b[0;34m\u001b[0m\u001b[0;34m\u001b[0m\u001b[0m\n",
            "\u001b[0;32m/usr/local/lib/python3.10/dist-packages/keras/utils/traceback_utils.py\u001b[0m in \u001b[0;36merror_handler\u001b[0;34m(*args, **kwargs)\u001b[0m\n\u001b[1;32m     63\u001b[0m         \u001b[0mfiltered_tb\u001b[0m \u001b[0;34m=\u001b[0m \u001b[0;32mNone\u001b[0m\u001b[0;34m\u001b[0m\u001b[0;34m\u001b[0m\u001b[0m\n\u001b[1;32m     64\u001b[0m         \u001b[0;32mtry\u001b[0m\u001b[0;34m:\u001b[0m\u001b[0;34m\u001b[0m\u001b[0;34m\u001b[0m\u001b[0m\n\u001b[0;32m---> 65\u001b[0;31m             \u001b[0;32mreturn\u001b[0m \u001b[0mfn\u001b[0m\u001b[0;34m(\u001b[0m\u001b[0;34m*\u001b[0m\u001b[0margs\u001b[0m\u001b[0;34m,\u001b[0m \u001b[0;34m**\u001b[0m\u001b[0mkwargs\u001b[0m\u001b[0;34m)\u001b[0m\u001b[0;34m\u001b[0m\u001b[0;34m\u001b[0m\u001b[0m\n\u001b[0m\u001b[1;32m     66\u001b[0m         \u001b[0;32mexcept\u001b[0m \u001b[0mException\u001b[0m \u001b[0;32mas\u001b[0m \u001b[0me\u001b[0m\u001b[0;34m:\u001b[0m\u001b[0;34m\u001b[0m\u001b[0;34m\u001b[0m\u001b[0m\n\u001b[1;32m     67\u001b[0m             \u001b[0mfiltered_tb\u001b[0m \u001b[0;34m=\u001b[0m \u001b[0m_process_traceback_frames\u001b[0m\u001b[0;34m(\u001b[0m\u001b[0me\u001b[0m\u001b[0;34m.\u001b[0m\u001b[0m__traceback__\u001b[0m\u001b[0;34m)\u001b[0m\u001b[0;34m\u001b[0m\u001b[0;34m\u001b[0m\u001b[0m\n",
            "\u001b[0;32m/usr/local/lib/python3.10/dist-packages/keras/engine/training.py\u001b[0m in \u001b[0;36mfit\u001b[0;34m(self, x, y, batch_size, epochs, verbose, callbacks, validation_split, validation_data, shuffle, class_weight, sample_weight, initial_epoch, steps_per_epoch, validation_steps, validation_batch_size, validation_freq, max_queue_size, workers, use_multiprocessing)\u001b[0m\n\u001b[1;32m   1683\u001b[0m                         ):\n\u001b[1;32m   1684\u001b[0m                             \u001b[0mcallbacks\u001b[0m\u001b[0;34m.\u001b[0m\u001b[0mon_train_batch_begin\u001b[0m\u001b[0;34m(\u001b[0m\u001b[0mstep\u001b[0m\u001b[0;34m)\u001b[0m\u001b[0;34m\u001b[0m\u001b[0;34m\u001b[0m\u001b[0m\n\u001b[0;32m-> 1685\u001b[0;31m                             \u001b[0mtmp_logs\u001b[0m \u001b[0;34m=\u001b[0m \u001b[0mself\u001b[0m\u001b[0;34m.\u001b[0m\u001b[0mtrain_function\u001b[0m\u001b[0;34m(\u001b[0m\u001b[0miterator\u001b[0m\u001b[0;34m)\u001b[0m\u001b[0;34m\u001b[0m\u001b[0;34m\u001b[0m\u001b[0m\n\u001b[0m\u001b[1;32m   1686\u001b[0m                             \u001b[0;32mif\u001b[0m \u001b[0mdata_handler\u001b[0m\u001b[0;34m.\u001b[0m\u001b[0mshould_sync\u001b[0m\u001b[0;34m:\u001b[0m\u001b[0;34m\u001b[0m\u001b[0;34m\u001b[0m\u001b[0m\n\u001b[1;32m   1687\u001b[0m                                 \u001b[0mcontext\u001b[0m\u001b[0;34m.\u001b[0m\u001b[0masync_wait\u001b[0m\u001b[0;34m(\u001b[0m\u001b[0;34m)\u001b[0m\u001b[0;34m\u001b[0m\u001b[0;34m\u001b[0m\u001b[0m\n",
            "\u001b[0;32m/usr/local/lib/python3.10/dist-packages/tensorflow/python/util/traceback_utils.py\u001b[0m in \u001b[0;36merror_handler\u001b[0;34m(*args, **kwargs)\u001b[0m\n\u001b[1;32m    148\u001b[0m     \u001b[0mfiltered_tb\u001b[0m \u001b[0;34m=\u001b[0m \u001b[0;32mNone\u001b[0m\u001b[0;34m\u001b[0m\u001b[0;34m\u001b[0m\u001b[0m\n\u001b[1;32m    149\u001b[0m     \u001b[0;32mtry\u001b[0m\u001b[0;34m:\u001b[0m\u001b[0;34m\u001b[0m\u001b[0;34m\u001b[0m\u001b[0m\n\u001b[0;32m--> 150\u001b[0;31m       \u001b[0;32mreturn\u001b[0m \u001b[0mfn\u001b[0m\u001b[0;34m(\u001b[0m\u001b[0;34m*\u001b[0m\u001b[0margs\u001b[0m\u001b[0;34m,\u001b[0m \u001b[0;34m**\u001b[0m\u001b[0mkwargs\u001b[0m\u001b[0;34m)\u001b[0m\u001b[0;34m\u001b[0m\u001b[0;34m\u001b[0m\u001b[0m\n\u001b[0m\u001b[1;32m    151\u001b[0m     \u001b[0;32mexcept\u001b[0m \u001b[0mException\u001b[0m \u001b[0;32mas\u001b[0m \u001b[0me\u001b[0m\u001b[0;34m:\u001b[0m\u001b[0;34m\u001b[0m\u001b[0;34m\u001b[0m\u001b[0m\n\u001b[1;32m    152\u001b[0m       \u001b[0mfiltered_tb\u001b[0m \u001b[0;34m=\u001b[0m \u001b[0m_process_traceback_frames\u001b[0m\u001b[0;34m(\u001b[0m\u001b[0me\u001b[0m\u001b[0;34m.\u001b[0m\u001b[0m__traceback__\u001b[0m\u001b[0;34m)\u001b[0m\u001b[0;34m\u001b[0m\u001b[0;34m\u001b[0m\u001b[0m\n",
            "\u001b[0;32m/usr/local/lib/python3.10/dist-packages/tensorflow/python/eager/polymorphic_function/polymorphic_function.py\u001b[0m in \u001b[0;36m__call__\u001b[0;34m(self, *args, **kwds)\u001b[0m\n\u001b[1;32m    892\u001b[0m \u001b[0;34m\u001b[0m\u001b[0m\n\u001b[1;32m    893\u001b[0m       \u001b[0;32mwith\u001b[0m \u001b[0mOptionalXlaContext\u001b[0m\u001b[0;34m(\u001b[0m\u001b[0mself\u001b[0m\u001b[0;34m.\u001b[0m\u001b[0m_jit_compile\u001b[0m\u001b[0;34m)\u001b[0m\u001b[0;34m:\u001b[0m\u001b[0;34m\u001b[0m\u001b[0;34m\u001b[0m\u001b[0m\n\u001b[0;32m--> 894\u001b[0;31m         \u001b[0mresult\u001b[0m \u001b[0;34m=\u001b[0m \u001b[0mself\u001b[0m\u001b[0;34m.\u001b[0m\u001b[0m_call\u001b[0m\u001b[0;34m(\u001b[0m\u001b[0;34m*\u001b[0m\u001b[0margs\u001b[0m\u001b[0;34m,\u001b[0m \u001b[0;34m**\u001b[0m\u001b[0mkwds\u001b[0m\u001b[0;34m)\u001b[0m\u001b[0;34m\u001b[0m\u001b[0;34m\u001b[0m\u001b[0m\n\u001b[0m\u001b[1;32m    895\u001b[0m \u001b[0;34m\u001b[0m\u001b[0m\n\u001b[1;32m    896\u001b[0m       \u001b[0mnew_tracing_count\u001b[0m \u001b[0;34m=\u001b[0m \u001b[0mself\u001b[0m\u001b[0;34m.\u001b[0m\u001b[0mexperimental_get_tracing_count\u001b[0m\u001b[0;34m(\u001b[0m\u001b[0;34m)\u001b[0m\u001b[0;34m\u001b[0m\u001b[0;34m\u001b[0m\u001b[0m\n",
            "\u001b[0;32m/usr/local/lib/python3.10/dist-packages/tensorflow/python/eager/polymorphic_function/polymorphic_function.py\u001b[0m in \u001b[0;36m_call\u001b[0;34m(self, *args, **kwds)\u001b[0m\n\u001b[1;32m    924\u001b[0m       \u001b[0;31m# In this case we have created variables on the first call, so we run the\u001b[0m\u001b[0;34m\u001b[0m\u001b[0;34m\u001b[0m\u001b[0m\n\u001b[1;32m    925\u001b[0m       \u001b[0;31m# defunned version which is guaranteed to never create variables.\u001b[0m\u001b[0;34m\u001b[0m\u001b[0;34m\u001b[0m\u001b[0m\n\u001b[0;32m--> 926\u001b[0;31m       \u001b[0;32mreturn\u001b[0m \u001b[0mself\u001b[0m\u001b[0;34m.\u001b[0m\u001b[0m_no_variable_creation_fn\u001b[0m\u001b[0;34m(\u001b[0m\u001b[0;34m*\u001b[0m\u001b[0margs\u001b[0m\u001b[0;34m,\u001b[0m \u001b[0;34m**\u001b[0m\u001b[0mkwds\u001b[0m\u001b[0;34m)\u001b[0m  \u001b[0;31m# pylint: disable=not-callable\u001b[0m\u001b[0;34m\u001b[0m\u001b[0;34m\u001b[0m\u001b[0m\n\u001b[0m\u001b[1;32m    927\u001b[0m     \u001b[0;32melif\u001b[0m \u001b[0mself\u001b[0m\u001b[0;34m.\u001b[0m\u001b[0m_variable_creation_fn\u001b[0m \u001b[0;32mis\u001b[0m \u001b[0;32mnot\u001b[0m \u001b[0;32mNone\u001b[0m\u001b[0;34m:\u001b[0m\u001b[0;34m\u001b[0m\u001b[0;34m\u001b[0m\u001b[0m\n\u001b[1;32m    928\u001b[0m       \u001b[0;31m# Release the lock early so that multiple threads can perform the call\u001b[0m\u001b[0;34m\u001b[0m\u001b[0;34m\u001b[0m\u001b[0m\n",
            "\u001b[0;32m/usr/local/lib/python3.10/dist-packages/tensorflow/python/eager/polymorphic_function/tracing_compiler.py\u001b[0m in \u001b[0;36m__call__\u001b[0;34m(self, *args, **kwargs)\u001b[0m\n\u001b[1;32m    141\u001b[0m       (concrete_function,\n\u001b[1;32m    142\u001b[0m        filtered_flat_args) = self._maybe_define_function(args, kwargs)\n\u001b[0;32m--> 143\u001b[0;31m     return concrete_function._call_flat(\n\u001b[0m\u001b[1;32m    144\u001b[0m         filtered_flat_args, captured_inputs=concrete_function.captured_inputs)  # pylint: disable=protected-access\n\u001b[1;32m    145\u001b[0m \u001b[0;34m\u001b[0m\u001b[0m\n",
            "\u001b[0;32m/usr/local/lib/python3.10/dist-packages/tensorflow/python/eager/polymorphic_function/monomorphic_function.py\u001b[0m in \u001b[0;36m_call_flat\u001b[0;34m(self, args, captured_inputs, cancellation_manager)\u001b[0m\n\u001b[1;32m   1755\u001b[0m         and executing_eagerly):\n\u001b[1;32m   1756\u001b[0m       \u001b[0;31m# No tape is watching; skip to running the function.\u001b[0m\u001b[0;34m\u001b[0m\u001b[0;34m\u001b[0m\u001b[0m\n\u001b[0;32m-> 1757\u001b[0;31m       return self._build_call_outputs(self._inference_function.call(\n\u001b[0m\u001b[1;32m   1758\u001b[0m           ctx, args, cancellation_manager=cancellation_manager))\n\u001b[1;32m   1759\u001b[0m     forward_backward = self._select_forward_and_backward_functions(\n",
            "\u001b[0;32m/usr/local/lib/python3.10/dist-packages/tensorflow/python/eager/polymorphic_function/monomorphic_function.py\u001b[0m in \u001b[0;36mcall\u001b[0;34m(self, ctx, args, cancellation_manager)\u001b[0m\n\u001b[1;32m    379\u001b[0m       \u001b[0;32mwith\u001b[0m \u001b[0m_InterpolateFunctionError\u001b[0m\u001b[0;34m(\u001b[0m\u001b[0mself\u001b[0m\u001b[0;34m)\u001b[0m\u001b[0;34m:\u001b[0m\u001b[0;34m\u001b[0m\u001b[0;34m\u001b[0m\u001b[0m\n\u001b[1;32m    380\u001b[0m         \u001b[0;32mif\u001b[0m \u001b[0mcancellation_manager\u001b[0m \u001b[0;32mis\u001b[0m \u001b[0;32mNone\u001b[0m\u001b[0;34m:\u001b[0m\u001b[0;34m\u001b[0m\u001b[0;34m\u001b[0m\u001b[0m\n\u001b[0;32m--> 381\u001b[0;31m           outputs = execute.execute(\n\u001b[0m\u001b[1;32m    382\u001b[0m               \u001b[0mstr\u001b[0m\u001b[0;34m(\u001b[0m\u001b[0mself\u001b[0m\u001b[0;34m.\u001b[0m\u001b[0msignature\u001b[0m\u001b[0;34m.\u001b[0m\u001b[0mname\u001b[0m\u001b[0;34m)\u001b[0m\u001b[0;34m,\u001b[0m\u001b[0;34m\u001b[0m\u001b[0;34m\u001b[0m\u001b[0m\n\u001b[1;32m    383\u001b[0m               \u001b[0mnum_outputs\u001b[0m\u001b[0;34m=\u001b[0m\u001b[0mself\u001b[0m\u001b[0;34m.\u001b[0m\u001b[0m_num_outputs\u001b[0m\u001b[0;34m,\u001b[0m\u001b[0;34m\u001b[0m\u001b[0;34m\u001b[0m\u001b[0m\n",
            "\u001b[0;32m/usr/local/lib/python3.10/dist-packages/tensorflow/python/eager/execute.py\u001b[0m in \u001b[0;36mquick_execute\u001b[0;34m(op_name, num_outputs, inputs, attrs, ctx, name)\u001b[0m\n\u001b[1;32m     50\u001b[0m   \u001b[0;32mtry\u001b[0m\u001b[0;34m:\u001b[0m\u001b[0;34m\u001b[0m\u001b[0;34m\u001b[0m\u001b[0m\n\u001b[1;32m     51\u001b[0m     \u001b[0mctx\u001b[0m\u001b[0;34m.\u001b[0m\u001b[0mensure_initialized\u001b[0m\u001b[0;34m(\u001b[0m\u001b[0;34m)\u001b[0m\u001b[0;34m\u001b[0m\u001b[0;34m\u001b[0m\u001b[0m\n\u001b[0;32m---> 52\u001b[0;31m     tensors = pywrap_tfe.TFE_Py_Execute(ctx._handle, device_name, op_name,\n\u001b[0m\u001b[1;32m     53\u001b[0m                                         inputs, attrs, num_outputs)\n\u001b[1;32m     54\u001b[0m   \u001b[0;32mexcept\u001b[0m \u001b[0mcore\u001b[0m\u001b[0;34m.\u001b[0m\u001b[0m_NotOkStatusException\u001b[0m \u001b[0;32mas\u001b[0m \u001b[0me\u001b[0m\u001b[0;34m:\u001b[0m\u001b[0;34m\u001b[0m\u001b[0;34m\u001b[0m\u001b[0m\n",
            "\u001b[0;31mKeyboardInterrupt\u001b[0m: "
          ]
        }
      ]
    },
    {
      "cell_type": "markdown",
      "source": [
        "##### Load the weights from google drive at the epoch where training most recently saved a model. In this case it was epoch 5 (005). For example if training completes all 15 epochs it would be epoch 15 (015)"
      ],
      "metadata": {
        "id": "enl6ufEiiLhG"
      }
    },
    {
      "cell_type": "code",
      "source": [
        "# The path to the model is '/content/drive/MyDrive/SignatureVerification/Weights/signet-bhsig260-{epoch}.h5'\n",
        "# Replace {epoch} with the final epoch of the model that is being loaded from google drive\n",
        "\n",
        "siamese_net.load_weights('/content/drive/MyDrive/SignatureVerification/Weights/signet-bhsig260-010.h5')"
      ],
      "metadata": {
        "id": "PtnfRszEyVYX",
        "colab": {
          "base_uri": "https://localhost:8080/",
          "height": 491
        },
        "outputId": "25228564-3d4f-4189-bcad-1ad2f6711e3f"
      },
      "execution_count": null,
      "outputs": [
        {
          "output_type": "error",
          "ename": "FileNotFoundError",
          "evalue": "ignored",
          "traceback": [
            "\u001b[0;31m---------------------------------------------------------------------------\u001b[0m",
            "\u001b[0;31mFileNotFoundError\u001b[0m                         Traceback (most recent call last)",
            "\u001b[0;32m<ipython-input-19-c3c1585d9bb0>\u001b[0m in \u001b[0;36m<cell line: 4>\u001b[0;34m()\u001b[0m\n\u001b[1;32m      2\u001b[0m \u001b[0;31m# Replace {epoch} with the final epoch of the model that is being loaded from google drive\u001b[0m\u001b[0;34m\u001b[0m\u001b[0;34m\u001b[0m\u001b[0m\n\u001b[1;32m      3\u001b[0m \u001b[0;34m\u001b[0m\u001b[0m\n\u001b[0;32m----> 4\u001b[0;31m \u001b[0msiamese_net\u001b[0m\u001b[0;34m.\u001b[0m\u001b[0mload_weights\u001b[0m\u001b[0;34m(\u001b[0m\u001b[0;34m'/content/drive/MyDrive/SignatureVerification/Weights/signet-bhsig260-010.h5'\u001b[0m\u001b[0;34m)\u001b[0m\u001b[0;34m\u001b[0m\u001b[0;34m\u001b[0m\u001b[0m\n\u001b[0m",
            "\u001b[0;32m/usr/local/lib/python3.10/dist-packages/keras/utils/traceback_utils.py\u001b[0m in \u001b[0;36merror_handler\u001b[0;34m(*args, **kwargs)\u001b[0m\n\u001b[1;32m     68\u001b[0m             \u001b[0;31m# To get the full stack trace, call:\u001b[0m\u001b[0;34m\u001b[0m\u001b[0;34m\u001b[0m\u001b[0m\n\u001b[1;32m     69\u001b[0m             \u001b[0;31m# `tf.debugging.disable_traceback_filtering()`\u001b[0m\u001b[0;34m\u001b[0m\u001b[0;34m\u001b[0m\u001b[0m\n\u001b[0;32m---> 70\u001b[0;31m             \u001b[0;32mraise\u001b[0m \u001b[0me\u001b[0m\u001b[0;34m.\u001b[0m\u001b[0mwith_traceback\u001b[0m\u001b[0;34m(\u001b[0m\u001b[0mfiltered_tb\u001b[0m\u001b[0;34m)\u001b[0m \u001b[0;32mfrom\u001b[0m \u001b[0;32mNone\u001b[0m\u001b[0;34m\u001b[0m\u001b[0;34m\u001b[0m\u001b[0m\n\u001b[0m\u001b[1;32m     71\u001b[0m         \u001b[0;32mfinally\u001b[0m\u001b[0;34m:\u001b[0m\u001b[0;34m\u001b[0m\u001b[0;34m\u001b[0m\u001b[0m\n\u001b[1;32m     72\u001b[0m             \u001b[0;32mdel\u001b[0m \u001b[0mfiltered_tb\u001b[0m\u001b[0;34m\u001b[0m\u001b[0;34m\u001b[0m\u001b[0m\n",
            "\u001b[0;32m/usr/local/lib/python3.10/dist-packages/h5py/_hl/files.py\u001b[0m in \u001b[0;36m__init__\u001b[0;34m(self, name, mode, driver, libver, userblock_size, swmr, rdcc_nslots, rdcc_nbytes, rdcc_w0, track_order, fs_strategy, fs_persist, fs_threshold, fs_page_size, page_buf_size, min_meta_keep, min_raw_keep, locking, alignment_threshold, alignment_interval, meta_block_size, **kwds)\u001b[0m\n\u001b[1;32m    565\u001b[0m                                  \u001b[0mfs_persist\u001b[0m\u001b[0;34m=\u001b[0m\u001b[0mfs_persist\u001b[0m\u001b[0;34m,\u001b[0m \u001b[0mfs_threshold\u001b[0m\u001b[0;34m=\u001b[0m\u001b[0mfs_threshold\u001b[0m\u001b[0;34m,\u001b[0m\u001b[0;34m\u001b[0m\u001b[0;34m\u001b[0m\u001b[0m\n\u001b[1;32m    566\u001b[0m                                  fs_page_size=fs_page_size)\n\u001b[0;32m--> 567\u001b[0;31m                 \u001b[0mfid\u001b[0m \u001b[0;34m=\u001b[0m \u001b[0mmake_fid\u001b[0m\u001b[0;34m(\u001b[0m\u001b[0mname\u001b[0m\u001b[0;34m,\u001b[0m \u001b[0mmode\u001b[0m\u001b[0;34m,\u001b[0m \u001b[0muserblock_size\u001b[0m\u001b[0;34m,\u001b[0m \u001b[0mfapl\u001b[0m\u001b[0;34m,\u001b[0m \u001b[0mfcpl\u001b[0m\u001b[0;34m,\u001b[0m \u001b[0mswmr\u001b[0m\u001b[0;34m=\u001b[0m\u001b[0mswmr\u001b[0m\u001b[0;34m)\u001b[0m\u001b[0;34m\u001b[0m\u001b[0;34m\u001b[0m\u001b[0m\n\u001b[0m\u001b[1;32m    568\u001b[0m \u001b[0;34m\u001b[0m\u001b[0m\n\u001b[1;32m    569\u001b[0m             \u001b[0;32mif\u001b[0m \u001b[0misinstance\u001b[0m\u001b[0;34m(\u001b[0m\u001b[0mlibver\u001b[0m\u001b[0;34m,\u001b[0m \u001b[0mtuple\u001b[0m\u001b[0;34m)\u001b[0m\u001b[0;34m:\u001b[0m\u001b[0;34m\u001b[0m\u001b[0;34m\u001b[0m\u001b[0m\n",
            "\u001b[0;32m/usr/local/lib/python3.10/dist-packages/h5py/_hl/files.py\u001b[0m in \u001b[0;36mmake_fid\u001b[0;34m(name, mode, userblock_size, fapl, fcpl, swmr)\u001b[0m\n\u001b[1;32m    229\u001b[0m         \u001b[0;32mif\u001b[0m \u001b[0mswmr\u001b[0m \u001b[0;32mand\u001b[0m \u001b[0mswmr_support\u001b[0m\u001b[0;34m:\u001b[0m\u001b[0;34m\u001b[0m\u001b[0;34m\u001b[0m\u001b[0m\n\u001b[1;32m    230\u001b[0m             \u001b[0mflags\u001b[0m \u001b[0;34m|=\u001b[0m \u001b[0mh5f\u001b[0m\u001b[0;34m.\u001b[0m\u001b[0mACC_SWMR_READ\u001b[0m\u001b[0;34m\u001b[0m\u001b[0;34m\u001b[0m\u001b[0m\n\u001b[0;32m--> 231\u001b[0;31m         \u001b[0mfid\u001b[0m \u001b[0;34m=\u001b[0m \u001b[0mh5f\u001b[0m\u001b[0;34m.\u001b[0m\u001b[0mopen\u001b[0m\u001b[0;34m(\u001b[0m\u001b[0mname\u001b[0m\u001b[0;34m,\u001b[0m \u001b[0mflags\u001b[0m\u001b[0;34m,\u001b[0m \u001b[0mfapl\u001b[0m\u001b[0;34m=\u001b[0m\u001b[0mfapl\u001b[0m\u001b[0;34m)\u001b[0m\u001b[0;34m\u001b[0m\u001b[0;34m\u001b[0m\u001b[0m\n\u001b[0m\u001b[1;32m    232\u001b[0m     \u001b[0;32melif\u001b[0m \u001b[0mmode\u001b[0m \u001b[0;34m==\u001b[0m \u001b[0;34m'r+'\u001b[0m\u001b[0;34m:\u001b[0m\u001b[0;34m\u001b[0m\u001b[0;34m\u001b[0m\u001b[0m\n\u001b[1;32m    233\u001b[0m         \u001b[0mfid\u001b[0m \u001b[0;34m=\u001b[0m \u001b[0mh5f\u001b[0m\u001b[0;34m.\u001b[0m\u001b[0mopen\u001b[0m\u001b[0;34m(\u001b[0m\u001b[0mname\u001b[0m\u001b[0;34m,\u001b[0m \u001b[0mh5f\u001b[0m\u001b[0;34m.\u001b[0m\u001b[0mACC_RDWR\u001b[0m\u001b[0;34m,\u001b[0m \u001b[0mfapl\u001b[0m\u001b[0;34m=\u001b[0m\u001b[0mfapl\u001b[0m\u001b[0;34m)\u001b[0m\u001b[0;34m\u001b[0m\u001b[0;34m\u001b[0m\u001b[0m\n",
            "\u001b[0;32mh5py/_objects.pyx\u001b[0m in \u001b[0;36mh5py._objects.with_phil.wrapper\u001b[0;34m()\u001b[0m\n",
            "\u001b[0;32mh5py/_objects.pyx\u001b[0m in \u001b[0;36mh5py._objects.with_phil.wrapper\u001b[0;34m()\u001b[0m\n",
            "\u001b[0;32mh5py/h5f.pyx\u001b[0m in \u001b[0;36mh5py.h5f.open\u001b[0;34m()\u001b[0m\n",
            "\u001b[0;31mFileNotFoundError\u001b[0m: [Errno 2] Unable to open file (unable to open file: name = '/content/drive/MyDrive/SignatureVerification/Weights/signet-bhsig260-010.h5', errno = 2, error message = 'No such file or directory', flags = 0, o_flags = 0)"
          ]
        }
      ]
    },
    {
      "cell_type": "code",
      "source": [
        "def compute_accuracy_roc(predictions, labels):\n",
        "    '''Compute ROC accuracy with a range of thresholds on distances.\n",
        "    '''\n",
        "    dmax = np.max(predictions)\n",
        "    dmin = np.min(predictions)\n",
        "    nsame = np.sum(labels == 1)\n",
        "    ndiff = np.sum(labels == 0)\n",
        "   \n",
        "    step = 0.01\n",
        "    max_acc = 0\n",
        "    best_thresh = -1\n",
        "   \n",
        "    for d in np.arange(dmin, dmax+step, step):\n",
        "        idx1 = predictions.ravel() <= d\n",
        "        idx2 = predictions.ravel() > d\n",
        "       \n",
        "        tpr = float(np.sum(labels[idx1] == 1)) / nsame       \n",
        "        tnr = float(np.sum(labels[idx2] == 0)) / ndiff\n",
        "        acc = 0.5 * (tpr + tnr)       \n",
        "#       print ('ROC', acc, tpr, tnr)\n",
        "       \n",
        "        if (acc > max_acc):\n",
        "            max_acc, best_thresh = acc, d\n",
        "           \n",
        "    return max_acc, best_thresh"
      ],
      "metadata": {
        "id": "DC_zHXIyxLyF"
      },
      "execution_count": null,
      "outputs": []
    },
    {
      "cell_type": "code",
      "source": [
        "test_gen = generate_pairs(genuine_test, forged_test, 1)\n",
        "pred, tr_y = [], []\n",
        "\n",
        "for i in range(100):\n",
        "    (img1, img2), label = next(test_gen)\n",
        "    tr_y.append(label)\n",
        "    pred.append(siamese_net.predict([img1, img2])[0][0])"
      ],
      "metadata": {
        "colab": {
          "base_uri": "https://localhost:8080/"
        },
        "id": "9fTIo87xzEeo",
        "outputId": "43fa3022-f998-4e33-9292-a6b35e9ffa67"
      },
      "execution_count": null,
      "outputs": [
        {
          "output_type": "stream",
          "name": "stdout",
          "text": [
            "1/1 [==============================] - 0s 231ms/step\n",
            "1/1 [==============================] - 0s 53ms/step\n",
            "1/1 [==============================] - 0s 49ms/step\n",
            "1/1 [==============================] - 0s 52ms/step\n",
            "1/1 [==============================] - 0s 50ms/step\n",
            "1/1 [==============================] - 0s 58ms/step\n",
            "1/1 [==============================] - 0s 51ms/step\n",
            "1/1 [==============================] - 0s 73ms/step\n",
            "1/1 [==============================] - 0s 51ms/step\n",
            "1/1 [==============================] - 0s 53ms/step\n",
            "1/1 [==============================] - 0s 49ms/step\n",
            "1/1 [==============================] - 0s 48ms/step\n",
            "1/1 [==============================] - 0s 47ms/step\n",
            "1/1 [==============================] - 0s 54ms/step\n",
            "1/1 [==============================] - 0s 51ms/step\n",
            "1/1 [==============================] - 0s 51ms/step\n",
            "1/1 [==============================] - 0s 52ms/step\n",
            "1/1 [==============================] - 0s 61ms/step\n",
            "1/1 [==============================] - 0s 51ms/step\n",
            "1/1 [==============================] - 0s 55ms/step\n",
            "1/1 [==============================] - 0s 63ms/step\n",
            "1/1 [==============================] - 0s 55ms/step\n",
            "1/1 [==============================] - 0s 61ms/step\n",
            "1/1 [==============================] - 0s 52ms/step\n",
            "1/1 [==============================] - 0s 58ms/step\n",
            "1/1 [==============================] - 0s 51ms/step\n",
            "1/1 [==============================] - 0s 56ms/step\n",
            "1/1 [==============================] - 0s 49ms/step\n",
            "1/1 [==============================] - 0s 49ms/step\n",
            "1/1 [==============================] - 0s 53ms/step\n",
            "1/1 [==============================] - 0s 50ms/step\n",
            "1/1 [==============================] - 0s 53ms/step\n",
            "1/1 [==============================] - 0s 51ms/step\n",
            "1/1 [==============================] - 0s 53ms/step\n",
            "1/1 [==============================] - 0s 48ms/step\n",
            "1/1 [==============================] - 0s 52ms/step\n",
            "1/1 [==============================] - 0s 50ms/step\n",
            "1/1 [==============================] - 0s 50ms/step\n",
            "1/1 [==============================] - 0s 50ms/step\n",
            "1/1 [==============================] - 0s 56ms/step\n",
            "1/1 [==============================] - 0s 59ms/step\n",
            "1/1 [==============================] - 0s 58ms/step\n",
            "1/1 [==============================] - 0s 56ms/step\n",
            "1/1 [==============================] - 0s 51ms/step\n",
            "1/1 [==============================] - 0s 53ms/step\n",
            "1/1 [==============================] - 0s 54ms/step\n",
            "1/1 [==============================] - 0s 50ms/step\n",
            "1/1 [==============================] - 0s 50ms/step\n",
            "1/1 [==============================] - 0s 51ms/step\n",
            "1/1 [==============================] - 0s 50ms/step\n",
            "1/1 [==============================] - 0s 49ms/step\n",
            "1/1 [==============================] - 0s 61ms/step\n",
            "1/1 [==============================] - 0s 50ms/step\n",
            "1/1 [==============================] - 0s 53ms/step\n",
            "1/1 [==============================] - 0s 89ms/step\n",
            "1/1 [==============================] - 0s 91ms/step\n",
            "1/1 [==============================] - 0s 82ms/step\n",
            "1/1 [==============================] - 0s 84ms/step\n",
            "1/1 [==============================] - 0s 83ms/step\n",
            "1/1 [==============================] - 0s 89ms/step\n",
            "1/1 [==============================] - 0s 85ms/step\n",
            "1/1 [==============================] - 0s 83ms/step\n",
            "1/1 [==============================] - 0s 88ms/step\n",
            "1/1 [==============================] - 0s 90ms/step\n",
            "1/1 [==============================] - 0s 80ms/step\n",
            "1/1 [==============================] - 0s 84ms/step\n",
            "1/1 [==============================] - 0s 78ms/step\n",
            "1/1 [==============================] - 0s 93ms/step\n",
            "1/1 [==============================] - 0s 95ms/step\n",
            "1/1 [==============================] - 0s 96ms/step\n",
            "1/1 [==============================] - 0s 82ms/step\n",
            "1/1 [==============================] - 0s 90ms/step\n",
            "1/1 [==============================] - 0s 85ms/step\n",
            "1/1 [==============================] - 0s 88ms/step\n",
            "1/1 [==============================] - 0s 86ms/step\n",
            "1/1 [==============================] - 0s 84ms/step\n",
            "1/1 [==============================] - 0s 82ms/step\n",
            "1/1 [==============================] - 0s 81ms/step\n",
            "1/1 [==============================] - 0s 77ms/step\n",
            "1/1 [==============================] - 0s 77ms/step\n",
            "1/1 [==============================] - 0s 85ms/step\n",
            "1/1 [==============================] - 0s 97ms/step\n",
            "1/1 [==============================] - 0s 67ms/step\n",
            "1/1 [==============================] - 0s 49ms/step\n",
            "1/1 [==============================] - 0s 51ms/step\n",
            "1/1 [==============================] - 0s 55ms/step\n",
            "1/1 [==============================] - 0s 49ms/step\n",
            "1/1 [==============================] - 0s 48ms/step\n",
            "1/1 [==============================] - 0s 51ms/step\n",
            "1/1 [==============================] - 0s 49ms/step\n",
            "1/1 [==============================] - 0s 54ms/step\n",
            "1/1 [==============================] - 0s 48ms/step\n",
            "1/1 [==============================] - 0s 50ms/step\n",
            "1/1 [==============================] - 0s 48ms/step\n",
            "1/1 [==============================] - 0s 58ms/step\n",
            "1/1 [==============================] - 0s 58ms/step\n",
            "1/1 [==============================] - 0s 57ms/step\n",
            "1/1 [==============================] - 0s 54ms/step\n",
            "1/1 [==============================] - 0s 56ms/step\n",
            "1/1 [==============================] - 0s 52ms/step\n"
          ]
        }
      ]
    },
    {
      "cell_type": "code",
      "source": [
        "tr_acc, threshold = compute_accuracy_roc(np.array(pred), np.array(tr_y))\n",
        "tr_acc, threshold"
      ],
      "metadata": {
        "colab": {
          "base_uri": "https://localhost:8080/"
        },
        "id": "7CfvK9Y1_2jd",
        "outputId": "0d3d60d1-3eae-4db5-ec4d-e9021c996cfb"
      },
      "execution_count": null,
      "outputs": [
        {
          "output_type": "execute_result",
          "data": {
            "text/plain": [
              "(0.7282828282828282, 0.4913495087623596)"
            ]
          },
          "metadata": {},
          "execution_count": 17
        }
      ]
    },
    {
      "cell_type": "code",
      "source": [
        "def predict_score():\n",
        "    '''Predict distance score and classify test images as Genuine or Forged'''\n",
        "    test_point, test_label = next(test_gen)\n",
        "    img1, img2 = test_point[0], test_point[1]\n",
        "    \n",
        "    if test_label == 1:\n",
        "      print(\"SIGNATURE IS GENUINE\")\n",
        "    else:\n",
        "      print(\"SIGNATURE IS FORGED\")\n",
        "\n",
        "    result = siamese_net.predict([img1, img2], verbose=0)\n",
        "    diff = result[0][0]\n",
        "    print(\"Difference Score = \", diff)\n",
        "    if diff > threshold:\n",
        "        print(\"Prediction - Its a Forged Signature\")\n",
        "    else:\n",
        "        print(\"Prediction - Its a Genuine Signature\")\n",
        "\n",
        "    print(\"~~~~~~~~~~~~~~~~~~~~~~~~~~~~~~~~~~~~~~~~\")"
      ],
      "metadata": {
        "id": "Y4xLXUCCdqhC"
      },
      "execution_count": null,
      "outputs": []
    },
    {
      "cell_type": "code",
      "source": [
        "predict_score()\n",
        "predict_score()\n",
        "predict_score()\n",
        "predict_score()\n",
        "predict_score()\n",
        "predict_score()\n",
        "predict_score()\n",
        "predict_score()\n",
        "predict_score()\n",
        "predict_score()\n",
        "predict_score()\n",
        "predict_score()\n",
        "predict_score()\n",
        "predict_score()\n",
        "predict_score()"
      ],
      "metadata": {
        "colab": {
          "base_uri": "https://localhost:8080/"
        },
        "id": "YeQKzo7Ud0Xx",
        "outputId": "c481c4ed-c74d-4a15-f2f5-0b2cea0bf0bb"
      },
      "execution_count": null,
      "outputs": [
        {
          "output_type": "stream",
          "name": "stdout",
          "text": [
            "SIGNATURE IS GENUINE\n",
            "Difference Score =  0.6133562\n",
            "Prediction - Its a Forged Signature\n",
            "~~~~~~~~~~~~~~~~~~~~~~~~~~~~~~~~~~~~~~~~\n",
            "SIGNATURE IS FORGED\n",
            "Difference Score =  0.037037257\n",
            "Prediction - Its a Genuine Signature\n",
            "~~~~~~~~~~~~~~~~~~~~~~~~~~~~~~~~~~~~~~~~\n",
            "SIGNATURE IS FORGED\n",
            "Difference Score =  0.59784895\n",
            "Prediction - Its a Forged Signature\n",
            "~~~~~~~~~~~~~~~~~~~~~~~~~~~~~~~~~~~~~~~~\n",
            "SIGNATURE IS FORGED\n",
            "Difference Score =  0.82632893\n",
            "Prediction - Its a Forged Signature\n",
            "~~~~~~~~~~~~~~~~~~~~~~~~~~~~~~~~~~~~~~~~\n",
            "SIGNATURE IS FORGED\n",
            "Difference Score =  0.78000623\n",
            "Prediction - Its a Forged Signature\n",
            "~~~~~~~~~~~~~~~~~~~~~~~~~~~~~~~~~~~~~~~~\n",
            "SIGNATURE IS GENUINE\n",
            "Difference Score =  0.65782857\n",
            "Prediction - Its a Forged Signature\n",
            "~~~~~~~~~~~~~~~~~~~~~~~~~~~~~~~~~~~~~~~~\n",
            "SIGNATURE IS FORGED\n",
            "Difference Score =  0.119044304\n",
            "Prediction - Its a Genuine Signature\n",
            "~~~~~~~~~~~~~~~~~~~~~~~~~~~~~~~~~~~~~~~~\n",
            "SIGNATURE IS FORGED\n",
            "Difference Score =  0.6396962\n",
            "Prediction - Its a Forged Signature\n",
            "~~~~~~~~~~~~~~~~~~~~~~~~~~~~~~~~~~~~~~~~\n",
            "SIGNATURE IS GENUINE\n",
            "Difference Score =  0.37671393\n",
            "Prediction - Its a Genuine Signature\n",
            "~~~~~~~~~~~~~~~~~~~~~~~~~~~~~~~~~~~~~~~~\n",
            "SIGNATURE IS FORGED\n",
            "Difference Score =  0.05911702\n",
            "Prediction - Its a Genuine Signature\n",
            "~~~~~~~~~~~~~~~~~~~~~~~~~~~~~~~~~~~~~~~~\n",
            "SIGNATURE IS FORGED\n",
            "Difference Score =  0.6262124\n",
            "Prediction - Its a Forged Signature\n",
            "~~~~~~~~~~~~~~~~~~~~~~~~~~~~~~~~~~~~~~~~\n",
            "SIGNATURE IS FORGED\n",
            "Difference Score =  0.38343465\n",
            "Prediction - Its a Genuine Signature\n",
            "~~~~~~~~~~~~~~~~~~~~~~~~~~~~~~~~~~~~~~~~\n",
            "SIGNATURE IS GENUINE\n",
            "Difference Score =  0.021629749\n",
            "Prediction - Its a Genuine Signature\n",
            "~~~~~~~~~~~~~~~~~~~~~~~~~~~~~~~~~~~~~~~~\n",
            "SIGNATURE IS FORGED\n",
            "Difference Score =  0.17110357\n",
            "Prediction - Its a Genuine Signature\n",
            "~~~~~~~~~~~~~~~~~~~~~~~~~~~~~~~~~~~~~~~~\n",
            "SIGNATURE IS FORGED\n",
            "Difference Score =  0.2016688\n",
            "Prediction - Its a Genuine Signature\n",
            "~~~~~~~~~~~~~~~~~~~~~~~~~~~~~~~~~~~~~~~~\n"
          ]
        }
      ]
    }
  ]
}